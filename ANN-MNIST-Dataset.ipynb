{
 "cells": [
  {
   "cell_type": "markdown",
   "id": "3931c6e5",
   "metadata": {},
   "source": [
    "# Building Artificial Neural Network\n",
    "\n",
    "- MNIST Dataset"
   ]
  },
  {
   "cell_type": "markdown",
   "id": "c56b2e63",
   "metadata": {},
   "source": [
    "### Step 1: Import the necessary libraries"
   ]
  },
  {
   "cell_type": "code",
   "execution_count": 1,
   "id": "3194f267",
   "metadata": {},
   "outputs": [],
   "source": [
    "import pandas as pd\n",
    "import numpy as np\n",
    "import tensorflow as tf\n",
    "from tensorflow import keras\n",
    "import matplotlib.pyplot as plt"
   ]
  },
  {
   "cell_type": "markdown",
   "id": "c56caf26",
   "metadata": {},
   "source": [
    "### Step 2: Load and preprocess the MNIST dataset from mnist.csv"
   ]
  },
  {
   "cell_type": "code",
   "execution_count": 2,
   "id": "824f5f4e",
   "metadata": {},
   "outputs": [],
   "source": [
    "mnist_df = pd.read_csv('mnist.csv')"
   ]
  },
  {
   "cell_type": "code",
   "execution_count": 3,
   "id": "88702a20",
   "metadata": {},
   "outputs": [],
   "source": [
    "# Split the dataset into features (pixels) and labels (target)\n",
    "\n",
    "features = mnist_df.drop('label', axis=1)\n",
    "labels = mnist_df['label']"
   ]
  },
  {
   "cell_type": "code",
   "execution_count": 4,
   "id": "3d01e384",
   "metadata": {},
   "outputs": [],
   "source": [
    "# Normalize pixel values to be in the range [0, 1]\n",
    "\n",
    "features = features / 255.0"
   ]
  },
  {
   "cell_type": "code",
   "execution_count": 5,
   "id": "7730eb25",
   "metadata": {},
   "outputs": [],
   "source": [
    "# Convert features and labels to NumPy arrays\n",
    "\n",
    "features = np.array(features)\n",
    "labels = np.array(labels)"
   ]
  },
  {
   "cell_type": "code",
   "execution_count": 6,
   "id": "cf72fab2",
   "metadata": {},
   "outputs": [],
   "source": [
    "# Reshape the features to match the expected input shape\n",
    "\n",
    "features = features.reshape(-1, 28, 28)"
   ]
  },
  {
   "cell_type": "code",
   "execution_count": 7,
   "id": "be0f7792",
   "metadata": {},
   "outputs": [],
   "source": [
    "# Reshape the labels to be one-dimensional\n",
    "\n",
    "labels = labels.reshape(-1)"
   ]
  },
  {
   "cell_type": "markdown",
   "id": "157e48d0",
   "metadata": {},
   "source": [
    "### Step 3: Build the ANN model"
   ]
  },
  {
   "cell_type": "code",
   "execution_count": 8,
   "id": "d8595024",
   "metadata": {},
   "outputs": [],
   "source": [
    "model = keras.Sequential([\n",
    "    keras.layers.Flatten(input_shape=(28, 28)),  # Flatten the 28x28 images to a 1D array\n",
    "    keras.layers.Dense(128, activation='relu'),   # Fully connected layer with 128 neurons and ReLU activation\n",
    "    keras.layers.Dropout(0.2),                   # Dropout layer to prevent overfitting\n",
    "    keras.layers.Dense(10, activation='softmax')  # Output layer with 10 neurons (for 0-9 digits) and softmax activation\n",
    "])\n",
    "\n",
    "# Step 4: Compile the model\n",
    "model.compile(optimizer='adam',\n",
    "              loss='sparse_categorical_crossentropy',  # Cross-entropy loss for classification\n",
    "              metrics=['accuracy'])"
   ]
  },
  {
   "cell_type": "markdown",
   "id": "21760b51",
   "metadata": {},
   "source": [
    "### Step 4: Compile the model"
   ]
  },
  {
   "cell_type": "code",
   "execution_count": 9,
   "id": "7e17ed61",
   "metadata": {},
   "outputs": [],
   "source": [
    "model.compile(optimizer='adam',\n",
    "              loss='sparse_categorical_crossentropy',  # Cross-entropy loss for classification\n",
    "              metrics=['accuracy'])"
   ]
  },
  {
   "cell_type": "markdown",
   "id": "a301f8da",
   "metadata": {},
   "source": [
    "### Step 5: Train the model"
   ]
  },
  {
   "cell_type": "code",
   "execution_count": 10,
   "id": "28e19cbd",
   "metadata": {},
   "outputs": [
    {
     "name": "stdout",
     "output_type": "stream",
     "text": [
      "Epoch 1/5\n",
      "1313/1313 [==============================] - 7s 5ms/step - loss: 0.3336 - accuracy: 0.9025\n",
      "Epoch 2/5\n",
      "1313/1313 [==============================] - 7s 5ms/step - loss: 0.1622 - accuracy: 0.9512\n",
      "Epoch 3/5\n",
      "1313/1313 [==============================] - 6s 4ms/step - loss: 0.1230 - accuracy: 0.9632\n",
      "Epoch 4/5\n",
      "1313/1313 [==============================] - 7s 5ms/step - loss: 0.0964 - accuracy: 0.9705\n",
      "Epoch 5/5\n",
      "1313/1313 [==============================] - 5s 4ms/step - loss: 0.0835 - accuracy: 0.9745\n"
     ]
    },
    {
     "data": {
      "text/plain": [
       "<keras.src.callbacks.History at 0x20d89265d10>"
      ]
     },
     "execution_count": 10,
     "metadata": {},
     "output_type": "execute_result"
    }
   ],
   "source": [
    "model.fit(features, labels, epochs = 5)  # You can adjust the number of epochs"
   ]
  },
  {
   "cell_type": "markdown",
   "id": "a428932e",
   "metadata": {},
   "source": [
    "### Step 6: Make predictions"
   ]
  },
  {
   "cell_type": "code",
   "execution_count": 11,
   "id": "374a6505",
   "metadata": {},
   "outputs": [
    {
     "name": "stdout",
     "output_type": "stream",
     "text": [
      "1313/1313 [==============================] - 2s 2ms/step\n"
     ]
    }
   ],
   "source": [
    "predictions = model.predict(features)  # Use the same dataset for predictions (not recommended for real-world use)"
   ]
  },
  {
   "cell_type": "markdown",
   "id": "c80d45aa",
   "metadata": {},
   "source": [
    "### Step 7: Visualize the results"
   ]
  },
  {
   "cell_type": "code",
   "execution_count": 12,
   "id": "44b4ceb5",
   "metadata": {},
   "outputs": [
    {
     "data": {
      "image/png": "[encoded data removed]",
      "text/plain": [
       "<Figure size 1000x1000 with 25 Axes>"
      ]
     },
     "metadata": {},
     "output_type": "display_data"
    }
   ],
   "source": [
    "plt.figure(figsize=(10, 10))\n",
    "for i in range(25):\n",
    "    plt.subplot(5, 5, i + 1)\n",
    "    plt.xticks([])\n",
    "    plt.yticks([])\n",
    "    plt.grid(False)\n",
    "    plt.imshow(features[i], cmap=plt.cm.binary)\n",
    "    predicted_label = np.argmax(predictions[i])\n",
    "    true_label = labels[i]\n",
    "    if predicted_label == true_label:\n",
    "        color = 'green'\n",
    "    else:\n",
    "        color = 'red'\n",
    "    plt.xlabel(f\"Pred: {predicted_label}, True: {true_label}\", color=color)\n",
    "plt.show()"
   ]
  },
  {
   "cell_type": "code",
   "execution_count": null,
   "id": "a5b7cccc",
   "metadata": {},
   "outputs": [],
   "source": []
  },
  {
   "cell_type": "code",
   "execution_count": null,
   "id": "8449ba3b",
   "metadata": {},
   "outputs": [],
   "source": []
  }
 ],
 "metadata": {
  "kernelspec": {
   "display_name": "Python 3 (ipykernel)",
   "language": "python",
   "name": "python3"
  },
  "language_info": {
   "codemirror_mode": {
    "name": "ipython",
    "version": 3
   },
   "file_extension": ".py",
   "mimetype": "text/x-python",
   "name": "python",
   "nbconvert_exporter": "python",
   "pygments_lexer": "ipython3",
   "version": "3.11.5"
  }
 },
 "nbformat": 4,
 "nbformat_minor": 5
}
